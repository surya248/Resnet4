{
  "cells": [
    {
      "cell_type": "code",
      "execution_count": 46,
      "id": "a5d6a390",
      "metadata": {
        "id": "a5d6a390"
      },
      "outputs": [],
      "source": [
        "import torch\n",
        "import torchvision\n",
        "import torchvision.transforms as tf\n",
        "import matplotlib.pyplot as plt\n",
        "from torchvision.utils import make_grid\n",
        "from torch.utils.data import random_split, DataLoader\n",
        "from torchvision.datasets.utils import download_url\n",
        "import torch.nn as nn\n",
        "import torch.nn.functional as F\n",
        "import tarfile\n",
        "%matplotlib inline"
      ]
    },
    {
      "cell_type": "markdown",
      "source": [
        "We use the architecture from https://myrtle.ai/learn/how-to-train-your-resnet-4-architecture/"
      ],
      "metadata": {
        "id": "RCiJ5j74sf1y"
      },
      "id": "RCiJ5j74sf1y"
    },
    {
      "cell_type": "code",
      "execution_count": 47,
      "id": "e8ad4c44",
      "metadata": {
        "colab": {
          "base_uri": "https://localhost:8080/"
        },
        "id": "e8ad4c44",
        "outputId": "7b5f8015-3ff4-47d0-8b49-48d557eb09e0"
      },
      "outputs": [
        {
          "output_type": "stream",
          "name": "stdout",
          "text": [
            "Files already downloaded and verified\n"
          ]
        }
      ],
      "source": [
        "import torchvision.datasets as datasets\n",
        "\n",
        "cifar_trainset = datasets.CIFAR10(root='./data', train=True, download=True,transform=tf.ToTensor()  )\n",
        "data = cifar_trainset.data / 255 "
      ]
    },
    {
      "cell_type": "code",
      "execution_count": 48,
      "id": "2c102846",
      "metadata": {
        "id": "2c102846"
      },
      "outputs": [],
      "source": [
        "means = data.mean(axis = (0,1,2)) \n",
        "stds = data.std(axis = (0,1,2))"
      ]
    },
    {
      "cell_type": "code",
      "execution_count": 49,
      "id": "707e0719",
      "metadata": {
        "colab": {
          "base_uri": "https://localhost:8080/"
        },
        "id": "707e0719",
        "outputId": "4d58c592-912f-4920-d400-384149d07c73"
      },
      "outputs": [
        {
          "output_type": "stream",
          "name": "stdout",
          "text": [
            "cuda:0\n"
          ]
        }
      ],
      "source": [
        "device = torch.device(\"cuda:0\" if torch.cuda.is_available() else \"cpu\")\n",
        "print(device)"
      ]
    },
    {
      "cell_type": "code",
      "execution_count": 50,
      "id": "428f8a1e",
      "metadata": {
        "id": "428f8a1e"
      },
      "outputs": [],
      "source": [
        "train_transforms=tf.Compose([tf.RandomCrop(32,padding=4,padding_mode='reflect'),\n",
        "                            tf.RandomHorizontalFlip(),\n",
        "                            tf.ToTensor(),\n",
        "                            tf.Normalize(means,stds,inplace=True) ])"
      ]
    },
    {
      "cell_type": "code",
      "execution_count": 51,
      "id": "3581aa5e",
      "metadata": {
        "id": "3581aa5e"
      },
      "outputs": [],
      "source": [
        "valid_transforms = tf.Compose([tf.ToTensor(), tf.Normalize(means,stds,inplace=True)])"
      ]
    },
    {
      "cell_type": "code",
      "execution_count": 52,
      "id": "15a65f17",
      "metadata": {
        "colab": {
          "base_uri": "https://localhost:8080/"
        },
        "id": "15a65f17",
        "outputId": "2565c946-8a81-4a44-be21-d20764b86099"
      },
      "outputs": [
        {
          "output_type": "stream",
          "name": "stdout",
          "text": [
            "Files already downloaded and verified\n",
            "Files already downloaded and verified\n"
          ]
        }
      ],
      "source": [
        "train_ds = torchvision.datasets.CIFAR10(root='./data', train=True,\n",
        "                                        download=True, transform=train_transforms)\n",
        "valid_ds = torchvision.datasets.CIFAR10(root='./data', train=False,\n",
        "                                        download=True, transform=valid_transforms)"
      ]
    },
    {
      "cell_type": "code",
      "execution_count": 53,
      "id": "e52cb85e",
      "metadata": {
        "id": "e52cb85e"
      },
      "outputs": [],
      "source": [
        "batch_size=400\n",
        "train_dl=DataLoader(train_ds,batch_size,shuffle=True,num_workers=2,pin_memory=True)\n",
        "valid_dl=DataLoader(valid_ds,batch_size*2,num_workers=2,pin_memory=True)"
      ]
    },
    {
      "cell_type": "markdown",
      "source": [
        "\n",
        "\n",
        "We are using denormalization to show images from dataloader and as the data loader is 4d so for multiplying and adding std and mean we need to reshape them to 4d\n"
      ],
      "metadata": {
        "id": "I6ZvP_wZsOWo"
      },
      "id": "I6ZvP_wZsOWo"
    },
    {
      "cell_type": "code",
      "execution_count": 54,
      "id": "962c5b20",
      "metadata": {
        "id": "962c5b20"
      },
      "outputs": [],
      "source": [
        "def denormalize(img,means,stds):\n",
        "  means=torch.tensor(means).reshape(1,3,1,1)\n",
        "  stds=torch.tensor(stds).reshape(1,3,1,1)\n",
        "  return img*stds + means"
      ]
    },
    {
      "cell_type": "code",
      "execution_count": 55,
      "id": "11270738",
      "metadata": {
        "id": "11270738"
      },
      "outputs": [],
      "source": [
        "def to_device(data,device):\n",
        "    if isinstance(data, (list,tuple)):\n",
        "        return [to_device(x, device) for x in data]\n",
        "    return data.to(device,non_blocking=True)\n",
        "\n",
        "class DeviceLoading:\n",
        "    def __init__(self,dl,device):\n",
        "        self.dl=dl\n",
        "        self.device=device\n",
        "    def __iter__(self):\n",
        "        for x in self.dl:\n",
        "            yield to_device(x,self.device)\n",
        "    def __len__(self):\n",
        "        return len(self.dl)"
      ]
    },
    {
      "cell_type": "code",
      "execution_count": 56,
      "id": "79da4eb7",
      "metadata": {
        "id": "79da4eb7"
      },
      "outputs": [],
      "source": [
        "train_dl=DeviceLoading(train_dl,device)\n",
        "valid_dl=DeviceLoading(valid_dl,device)"
      ]
    },
    {
      "cell_type": "code",
      "execution_count": 57,
      "id": "6e52ef90",
      "metadata": {
        "colab": {
          "base_uri": "https://localhost:8080/"
        },
        "id": "6e52ef90",
        "outputId": "820e4159-eb8a-4de8-e9a3-f1cc3c6973bd"
      },
      "outputs": [
        {
          "output_type": "execute_result",
          "data": {
            "text/plain": [
              "device(type='cuda', index=0)"
            ]
          },
          "metadata": {},
          "execution_count": 57
        }
      ],
      "source": [
        "device"
      ]
    },
    {
      "cell_type": "code",
      "execution_count": 58,
      "id": "c6c387f1",
      "metadata": {
        "id": "c6c387f1"
      },
      "outputs": [],
      "source": [
        "def accuracy(outputs, labels):\n",
        "    _, preds = torch.max(outputs, dim=1)\n",
        "    return torch.tensor(torch.sum(preds == labels).item() / len(preds))\n",
        "\n",
        "class Loss_Acc(nn.Module):\n",
        "    def training_step(self, batch):\n",
        "        images, labels = batch \n",
        "        out = self.forward(images)                  \n",
        "        loss = F.cross_entropy(out, labels) \n",
        "        return loss\n",
        "    \n",
        "    def validation_step(self, batch):\n",
        "        images, labels = batch \n",
        "        out = self.forward(images)                    \n",
        "        acc = accuracy(out, labels)           \n",
        "        return acc"
      ]
    },
    {
      "cell_type": "code",
      "execution_count": 71,
      "id": "d398914a",
      "metadata": {
        "id": "d398914a"
      },
      "outputs": [],
      "source": [
        "def Add_layers(in_channels, out_channels, pool=False):\n",
        "    layers = [nn.Conv2d(in_channels, out_channels, kernel_size=3, padding=1), \n",
        "              nn.BatchNorm2d(out_channels), \n",
        "              nn.ReLU(inplace=True)]\n",
        "    if pool: layers.append(nn.MaxPool2d(2))\n",
        "    return nn.Sequential(*layers)\n",
        "\n",
        "class ResNet9(Loss_Acc):\n",
        "    def __init__(self, in_channels, num_classes): \n",
        "        super(ResNet9,self).__init__()\n",
        "#         400x3x32x32\n",
        "        self.conv1=Add_layers(in_channels, 64) # 400x64x32x32\n",
        "        self.conv2=Add_layers(64, 128, pool=True) # 400x128x16x16\n",
        "        self.res1=nn.Sequential(Add_layers(128, 128), Add_layers(128, 128))\n",
        "        \n",
        "        self.conv3=Add_layers(128, 256, pool=True)  # 400x256x8x8\n",
        "        self.conv4=Add_layers(256, 256, pool=True)\n",
        "        self.res2=nn.Sequential(Add_layers(256, 256), Add_layers(256, 256))\n",
        "        \n",
        "        self.classifier=nn.Sequential(nn.MaxPool2d(4), # 10x512x1x1\n",
        "                                        nn.Flatten(), # 512\n",
        "                                        nn.Dropout(0.2),\n",
        "                                        nn.Linear(256, num_classes))\n",
        "        \n",
        "    def forward(self, xb):\n",
        "        out=self.conv1(xb)\n",
        "        out=self.conv2(out)\n",
        "        out=self.res1(out) + out\n",
        "        out=self.conv3(out)\n",
        "        out=self.conv4(out)\n",
        "        out=self.res2(out) + out\n",
        "        out=self.classifier(out)\n",
        "        return out"
      ]
    },
    {
      "cell_type": "code",
      "execution_count": 74,
      "id": "4627bee5",
      "metadata": {
        "id": "4627bee5"
      },
      "outputs": [],
      "source": [
        "torch.cuda.empty_cache()\n",
        "model=to_device(ResNet9(3, 10), device)"
      ]
    },
    {
      "cell_type": "code",
      "execution_count": 61,
      "id": "75edfd11",
      "metadata": {
        "id": "75edfd11"
      },
      "outputs": [],
      "source": [
        "@torch.no_grad()\n",
        "def evaluation(model,val_loader,t_loss,lrs):\n",
        "    model.eval()\n",
        "    outputs = [model.validation_step(batch) for batch in val_loader]\n",
        "    epoch_acc = torch.stack([x for x in outputs]).mean().item()\n",
        "    return epoch_acc"
      ]
    },
    {
      "cell_type": "code",
      "execution_count": 62,
      "id": "db27d436",
      "metadata": {
        "id": "db27d436"
      },
      "outputs": [],
      "source": [
        "def new_lr(optimizer):\n",
        "    for param_group in optimizer.param_groups:\n",
        "        return param_group['lr']"
      ]
    },
    {
      "cell_type": "code",
      "execution_count": 63,
      "id": "e14fa777",
      "metadata": {
        "id": "e14fa777"
      },
      "outputs": [],
      "source": [
        "def fit(epochs, max_lr, model, train_loader, val_loader, \n",
        "                  weight_decay=0, grad_clip=None, opt=torch.optim.Adam):\n",
        "    torch.cuda.empty_cache()\n",
        "    optimizer=opt(model.parameters(),max_lr,weight_decay=weight_decay)\n",
        "    #every epoch has different lr in OneCycleLR\n",
        "    lr_sched=torch.optim.lr_scheduler.OneCycleLR(optimizer, max_lr, epochs=epochs, \n",
        "                                                steps_per_epoch=len(train_loader))\n",
        "\n",
        "    records=[]\n",
        "    for epoch in range(epochs):\n",
        "        model.train()\n",
        "        lrs=[]\n",
        "        train_losses=[]\n",
        "        for batch in train_loader:\n",
        "            loss = model.training_step(batch)\n",
        "            train_losses.append(loss)\n",
        "            loss.backward()\n",
        "            \n",
        "            if grad_clip: \n",
        "                nn.utils.clip_grad_value_(model.parameters(), grad_clip)\n",
        "                \n",
        "            optimizer.step()\n",
        "            optimizer.zero_grad()\n",
        "            \n",
        "            lrs.append(new_lr(optimizer))\n",
        "            lr_sched.step()\n",
        "        \n",
        "        t_loss = torch.stack(train_losses).mean().item()\n",
        "        lrs = lrs\n",
        "        result = evaluation(model, val_loader,t_loss,lrs)\n",
        "        records.append([result,t_loss,lrs[-1]])\n",
        "        print(f\"result:{result},t_loss:{t_loss},lrs:{lrs[-1]}\")\n",
        "    \n",
        "    return records"
      ]
    },
    {
      "cell_type": "code",
      "execution_count": 77,
      "id": "91e388eb",
      "metadata": {
        "colab": {
          "base_uri": "https://localhost:8080/"
        },
        "id": "91e388eb",
        "outputId": "3c024a49-9dc2-4c36-a49b-eb3443521e6c"
      },
      "outputs": [
        {
          "output_type": "stream",
          "name": "stdout",
          "text": [
            "result:0.543749988079071,t_loss:1.342811942100525,lrs:0.0010347147065464194\n",
            "result:0.6287500858306885,t_loss:0.9583999514579773,lrs:0.0027883855836428892\n",
            "result:0.7487499713897705,t_loss:0.799932062625885,lrs:0.005189933488862935\n",
            "result:0.7665385007858276,t_loss:0.7103345990180969,lrs:0.007594185749005899\n",
            "result:0.7064422965049744,t_loss:0.6261388063430786,lrs:0.00935524316949251\n",
            "result:0.8009615540504456,t_loss:0.5548087358474731,lrs:0.01\n",
            "result:0.7893269062042236,t_loss:0.49511200189590454,lrs:0.009874640062350875\n",
            "result:0.7846154570579529,t_loss:0.46220862865448,lrs:0.009504846320134737\n",
            "result:0.8079807758331299,t_loss:0.434877872467041,lrs:0.0089091617757105\n",
            "result:0.8335577249526978,t_loss:0.4105146825313568,lrs:0.008117456539497631\n",
            "result:0.8371153473854065,t_loss:0.38311952352523804,lrs:0.007169430017913008\n",
            "result:0.820192277431488,t_loss:0.3550102114677429,lrs:0.0061126202193628925\n",
            "result:0.8544229865074158,t_loss:0.32791367173194885,lrs:0.00500002\n",
            "result:0.8710577487945557,t_loss:0.29233795404434204,lrs:0.003887419780637108\n",
            "result:0.8893269300460815,t_loss:0.24812577664852142,lrs:0.0028306099820869924\n",
            "result:0.9048077464103699,t_loss:0.20574918389320374,lrs:0.00188258346050237\n",
            "result:0.913942277431488,t_loss:0.15781556069850922,lrs:0.0010908782242895004\n",
            "result:0.9226923584938049,t_loss:0.11567568778991699,lrs:0.0004951936798652628\n",
            "result:0.9242306351661682,t_loss:0.09112945199012756,lrs:0.00012539993764912555\n",
            "result:0.9239422678947449,t_loss:0.07992009073495865,lrs:4e-08\n"
          ]
        }
      ],
      "source": [
        "rec=fit(20,0.01,model,train_dl,valid_dl,1e-4,0.1)"
      ]
    },
    {
      "cell_type": "code",
      "execution_count": 65,
      "id": "d0e2d48a",
      "metadata": {
        "colab": {
          "base_uri": "https://localhost:8080/"
        },
        "id": "d0e2d48a",
        "outputId": "00c293c7-8e34-475f-c134-d2c4b9d335f9"
      },
      "outputs": [
        {
          "output_type": "stream",
          "name": "stdout",
          "text": [
            "Looking in indexes: https://pypi.org/simple, https://us-python.pkg.dev/colab-wheels/public/simple/\n",
            "Requirement already satisfied: torchinfo in /usr/local/lib/python3.9/dist-packages (1.7.2)\n"
          ]
        }
      ],
      "source": [
        "!pip install torchinfo"
      ]
    },
    {
      "cell_type": "code",
      "source": [
        "from torchinfo import summary\n",
        "summary(model)"
      ],
      "metadata": {
        "colab": {
          "base_uri": "https://localhost:8080/"
        },
        "id": "Oj63Uoh3tTdc",
        "outputId": "7cff935f-76ce-43dc-80e8-c3faefb76a4c"
      },
      "id": "Oj63Uoh3tTdc",
      "execution_count": 76,
      "outputs": [
        {
          "output_type": "execute_result",
          "data": {
            "text/plain": [
              "=================================================================\n",
              "Layer (type:depth-idx)                   Param #\n",
              "=================================================================\n",
              "ResNet9                                  --\n",
              "├─Sequential: 1-1                        --\n",
              "│    └─Conv2d: 2-1                       1,792\n",
              "│    └─BatchNorm2d: 2-2                  128\n",
              "│    └─ReLU: 2-3                         --\n",
              "├─Sequential: 1-2                        --\n",
              "│    └─Conv2d: 2-4                       73,856\n",
              "│    └─BatchNorm2d: 2-5                  256\n",
              "│    └─ReLU: 2-6                         --\n",
              "│    └─MaxPool2d: 2-7                    --\n",
              "├─Sequential: 1-3                        --\n",
              "│    └─Sequential: 2-8                   --\n",
              "│    │    └─Conv2d: 3-1                  147,584\n",
              "│    │    └─BatchNorm2d: 3-2             256\n",
              "│    │    └─ReLU: 3-3                    --\n",
              "│    └─Sequential: 2-9                   --\n",
              "│    │    └─Conv2d: 3-4                  147,584\n",
              "│    │    └─BatchNorm2d: 3-5             256\n",
              "│    │    └─ReLU: 3-6                    --\n",
              "├─Sequential: 1-4                        --\n",
              "│    └─Conv2d: 2-10                      295,168\n",
              "│    └─BatchNorm2d: 2-11                 512\n",
              "│    └─ReLU: 2-12                        --\n",
              "│    └─MaxPool2d: 2-13                   --\n",
              "├─Sequential: 1-5                        --\n",
              "│    └─Conv2d: 2-14                      590,080\n",
              "│    └─BatchNorm2d: 2-15                 512\n",
              "│    └─ReLU: 2-16                        --\n",
              "│    └─MaxPool2d: 2-17                   --\n",
              "├─Sequential: 1-6                        --\n",
              "│    └─Sequential: 2-18                  --\n",
              "│    │    └─Conv2d: 3-7                  590,080\n",
              "│    │    └─BatchNorm2d: 3-8             512\n",
              "│    │    └─ReLU: 3-9                    --\n",
              "│    └─Sequential: 2-19                  --\n",
              "│    │    └─Conv2d: 3-10                 590,080\n",
              "│    │    └─BatchNorm2d: 3-11            512\n",
              "│    │    └─ReLU: 3-12                   --\n",
              "├─Sequential: 1-7                        --\n",
              "│    └─MaxPool2d: 2-20                   --\n",
              "│    └─Flatten: 2-21                     --\n",
              "│    └─Dropout: 2-22                     --\n",
              "│    └─Linear: 2-23                      2,570\n",
              "=================================================================\n",
              "Total params: 2,441,738\n",
              "Trainable params: 2,441,738\n",
              "Non-trainable params: 0\n",
              "================================================================="
            ]
          },
          "metadata": {},
          "execution_count": 76
        }
      ]
    }
  ],
  "metadata": {
    "kernelspec": {
      "display_name": "Python 3 (ipykernel)",
      "language": "python",
      "name": "python3"
    },
    "language_info": {
      "codemirror_mode": {
        "name": "ipython",
        "version": 3
      },
      "file_extension": ".py",
      "mimetype": "text/x-python",
      "name": "python",
      "nbconvert_exporter": "python",
      "pygments_lexer": "ipython3",
      "version": "3.9.13"
    },
    "colab": {
      "provenance": []
    },
    "accelerator": "GPU",
    "gpuClass": "standard"
  },
  "nbformat": 4,
  "nbformat_minor": 5
}